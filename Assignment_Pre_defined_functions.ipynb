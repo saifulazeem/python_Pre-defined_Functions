{
 "cells": [
  {
   "cell_type": "markdown",
   "metadata": {},
   "source": [
    "# PIAIC Python First Class¶\n"
   ]
  },
  {
   "cell_type": "markdown",
   "metadata": {},
   "source": [
    "# Task\n",
    "1. implementation of Five Python pre-Defined Functions\n",
    "2. Student ID Card\n",
    "3. Result Card"
   ]
  },
  {
   "cell_type": "markdown",
   "metadata": {},
   "source": [
    "# Implementation of Five Python pre-Defined Functions"
   ]
  },
  {
   "cell_type": "code",
   "execution_count": 19,
   "metadata": {},
   "outputs": [
    {
     "name": "stdout",
     "output_type": "stream",
     "text": [
      "Please Enter Decimal Number you want to convert in Binary \n",
      "11333\n",
      "11333  into Binary =  0b10110001000101\n"
     ]
    }
   ],
   "source": [
    "##bin() converts an integer to a binary string.\n",
    "print(\"Please Enter Decimal Number you want to convert in Binary \")\n",
    "user_number=int(input())\n",
    "reslt=bin(user_number)\n",
    "print(user_number,\" into Binary = \",reslt)"
   ]
  },
  {
   "cell_type": "code",
   "execution_count": 18,
   "metadata": {},
   "outputs": [
    {
     "name": "stdout",
     "output_type": "stream",
     "text": [
      "Please Enter interger Code To convert into ASCII 75\n",
      "K\n"
     ]
    }
   ],
   "source": [
    "##chr() Built In function returns the character in python for an ASCII value.\n",
    "user_input=int(input(\"Please Enter interger Code To convert into ASCII \"))\n",
    "asci_val=chr(user_input)\n",
    "print(asci_val)"
   ]
  },
  {
   "cell_type": "code",
   "execution_count": 15,
   "metadata": {},
   "outputs": [
    {
     "name": "stdout",
     "output_type": "stream",
     "text": [
      "\n",
      "For Addition Press 1\n",
      "For Subtraction Press 2\n",
      "For Multiplication Press 3\n",
      "For Division Press 4\n",
      "\n",
      "Enter you Choice1\n",
      "Enter First Number =3\n",
      "Enter Second Number =3\n",
      "Result =  6.0\n"
     ]
    }
   ],
   "source": [
    "\n",
    "class Calculator:\n",
    "    def addition(self,num1,num2):\n",
    "        ans=num1+num2\n",
    "        ##float() This Python Built In function converts an int or a compatible value into a float\n",
    "        anss=float(ans)\n",
    "        print(\"Result = \",anss)\n",
    "    def subtract(self,num1,num2):\n",
    "        ans=num1-num2\n",
    "        ##float() This Python Built In function converts an int or a compatible value into a float\n",
    "        anss=float(ans)\n",
    "        print(\"Result = \",anss)\n",
    "    def multiply(self,num1,num2):\n",
    "        ans=num1*num2\n",
    "        ##float() This Python Built In function converts an int or a compatible value into a float\n",
    "        anss=float(ans)\n",
    "        print(\"Result = \",anss)\n",
    "    def division(self,num1,num2):\n",
    "        ans=num1/num2\n",
    "        ##float() This Python Built In function converts an int or a compatible value into a float\n",
    "        anss=float(ans)\n",
    "        print(\"Result = \",anss)\n",
    "##classmethod() returns a class method for a given method.\n",
    "Calculator.addition=classmethod(Calculator.addition)\n",
    "##classmethod() returns a class method for a given method.\n",
    "Calculator.subtract=classmethod(Calculator.subtract)\n",
    "##classmethod() returns a class method for a given method.\n",
    "Calculator.multiply=classmethod(Calculator.multiply)\n",
    "##classmethod() returns a class method for a given method.\n",
    "Calculator.division=classmethod(Calculator.division)\n",
    "\n",
    "description=\"\"\"\n",
    "For Addition Press 1\n",
    "For Subtraction Press 2\n",
    "For Multiplication Press 3\n",
    "For Division Press 4\n",
    "\"\"\"\n",
    "print(description)\n",
    "choice=int(input(\"Enter you Choice\"))\n",
    "if choice==1:\n",
    "    num1=int(input(\"Enter First Number =\"))\n",
    "    num2=int(input(\"Enter Second Number =\"))\n",
    "    Calculator.addition(num1,num2)\n",
    "elif choice==2:\n",
    "    num1=int(input(\"Enter First Number =\"))\n",
    "    num2=int(input(\"Enter Second Number =\"))\n",
    "    Calculator.subtract(num1,num2)\n",
    "elif choice==3:\n",
    "    num1=int(input(\"Enter First Number =\"))\n",
    "    num2=int(input(\"Enter Second Number =\"))\n",
    "    Calculator.multiply(num1,num2)\n",
    "elif choice==4:\n",
    "    num1=int(input(\"Enter First Number =\"))\n",
    "    num2=int(input(\"Enter Second Number =\"))\n",
    "    Calculator.division(num1,num2)\n",
    "else :\n",
    "    \n",
    "    print(\"Enter Interger Number between 0 to 4\")\n",
    "    "
   ]
  },
  {
   "cell_type": "markdown",
   "metadata": {},
   "source": [
    "# Student ID Card"
   ]
  },
  {
   "cell_type": "code",
   "execution_count": 16,
   "metadata": {},
   "outputs": [
    {
     "name": "stdout",
     "output_type": "stream",
     "text": [
      "Enter your Time3:30 to 6:30\n",
      "Enter NameMuhammad Saif Ul Azeem\n",
      "Entre Father NmaeMuhammad Azeem\n",
      "Enter UniversityNational university of Modern Languages\n",
      "\n",
      "PIAIC ISLAMABAD BATCH3\n",
      "TIMING: 3:30 to 6:30\n",
      "NAME: Muhammad Saif Ul Azeem\n",
      "Father's Nmae: Muhammad Azeem\n",
      "University: National university of Modern Languages\n",
      "\n"
     ]
    }
   ],
   "source": [
    "\n",
    "\n",
    "timeings=input(\"Enter your Time\")\n",
    "name=input(\"Enter Name\")\n",
    "f_nmae=input(\"Entre Father Nmae\")\n",
    "uni=input(\"Enter University\")\n",
    "message=\"\"\"\n",
    "PIAIC ISLAMABAD BATCH3\n",
    "TIMING: {}\n",
    "NAME: {}\n",
    "Father's Nmae: {}\n",
    "University: {}\n",
    "\"\"\"\n",
    "##format()\tFormats a specified value\n",
    "message=message.format(timeings,name,f_nmae,uni)\n",
    "\n",
    "\n",
    "print(message)"
   ]
  },
  {
   "cell_type": "markdown",
   "metadata": {},
   "source": [
    "# Result Card"
   ]
  },
  {
   "cell_type": "code",
   "execution_count": 13,
   "metadata": {},
   "outputs": [
    {
     "name": "stdout",
     "output_type": "stream",
     "text": [
      "Enter Student Name Muhammad Saif\n",
      "Enter Father NameMuhammad Azim\n",
      "Enter Physics Marks Out of 100  :110\n",
      "Please Enter Marks Out of 100 \n",
      "Enter Chemistry Marks Out of 100  :90\n",
      "Enter Maths Marks Out of 100  :89\n",
      "Enter English Marks Out of 100  :78\n",
      "Enter Urdu Marks Out of 100  :78\n",
      "NUML\n",
      "Fall 2019\n",
      "Nmae: Muhammad Saif\n",
      "Father's Name:Muhammad Azim\n",
      "phy:0\n",
      "Che:90\n",
      "mat:89\n",
      "eng:78\n",
      "Urdu:78\n",
      "Total:335\n",
      "Percentage % :67.0\n",
      "\n"
     ]
    }
   ],
   "source": [
    "s_name=input(\"Enter Student Name \")\n",
    "fthr_name=input(\"Enter Father Name\")\n",
    "phys=int(input(\"Enter Physics Marks Out of 100  :\"))\n",
    "\n",
    "if phys>100:\n",
    "    print(\"Please Enter Marks Out of 100 \")\n",
    "    phys=0\n",
    "else :\n",
    "    phys=phys\n",
    "\n",
    "chem=int(input(\"Enter Chemistry Marks Out of 100  :\"))\n",
    "if chem>100:\n",
    "    print(\"Please Enter Marks Out of 100 \")\n",
    "    chem=0\n",
    "else :\n",
    "    chem=chem\n",
    "    \n",
    "maths=int(input(\"Enter Maths Marks Out of 100  :\"))\n",
    "if maths>100:\n",
    "    print(\"Please Enter Marks Out of 100 \")\n",
    "    maths=0\n",
    "else :\n",
    "    maths=maths\n",
    "eng=int(input(\"Enter English Marks Out of 100  :\"))\n",
    "if eng>100:\n",
    "    print(\"Please Enter Marks Out of 100 \")\n",
    "    eng=0\n",
    "else :\n",
    "    eng=eng\n",
    "urdu=int(input(\"Enter Urdu Marks Out of 100  :\"))\n",
    "if urdu>100:\n",
    "    print(\"Please Enter Marks Out of 100 \")\n",
    "    urdu=0\n",
    "else :\n",
    "    urdu=urdu\n",
    "\n",
    "marks_obt=phys+chem+maths+eng+urdu\n",
    "prsnt=(marks_obt*100)/500\n",
    "msg=\"\"\"NUML\n",
    "Fall 2019\n",
    "Nmae: {}\n",
    "Father's Name:{}\n",
    "phy:{}\n",
    "Che:{}\n",
    "mat:{}\n",
    "eng:{}\n",
    "Urdu:{}\n",
    "Total:{}\n",
    "Percentage % :{}\n",
    "\"\"\"\n",
    "msg=msg.format(s_name,fthr_name,phys,chem,maths,eng,urdu,marks_obt,prsnt)\n",
    "\n",
    "print(msg)"
   ]
  },
  {
   "cell_type": "code",
   "execution_count": null,
   "metadata": {},
   "outputs": [],
   "source": []
  },
  {
   "cell_type": "code",
   "execution_count": null,
   "metadata": {},
   "outputs": [],
   "source": []
  },
  {
   "cell_type": "code",
   "execution_count": null,
   "metadata": {},
   "outputs": [],
   "source": []
  }
 ],
 "metadata": {
  "kernelspec": {
   "display_name": "Python 3",
   "language": "python",
   "name": "python3"
  },
  "language_info": {
   "codemirror_mode": {
    "name": "ipython",
    "version": 3
   },
   "file_extension": ".py",
   "mimetype": "text/x-python",
   "name": "python",
   "nbconvert_exporter": "python",
   "pygments_lexer": "ipython3",
   "version": "3.7.1"
  }
 },
 "nbformat": 4,
 "nbformat_minor": 2
}
